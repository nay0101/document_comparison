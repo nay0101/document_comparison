{
 "cells": [
  {
   "cell_type": "code",
   "execution_count": 8,
   "metadata": {},
   "outputs": [
    {
     "name": "stderr",
     "output_type": "stream",
     "text": [
      "d:\\Code\\document_comparison\\venv\\Lib\\site-packages\\tqdm\\auto.py:21: TqdmWarning: IProgress not found. Please update jupyter and ipywidgets. See https://ipywidgets.readthedocs.io/en/stable/user_install.html\n",
      "  from .autonotebook import tqdm as notebook_tqdm\n"
     ]
    }
   ],
   "source": [
    "from langchain_core.prompts import ChatPromptTemplate\n",
    "from langchain_core.output_parsers import StrOutputParser\n",
    "from helpers.llm_integrations import get_llm\n",
    "from dotenv import load_dotenv\n",
    "\n",
    "load_dotenv()\n",
    "\n",
    "instruction = \"\"\"\n",
    "You are an expert in multilingual document comparison and modification. Your task is to analyze two documents in different languages and suggest changes to align them while preserving the original language and style of the target document(s).\n",
    "\n",
    "Here are the two documents and their respective languages:\n",
    "\n",
    "Document 1:\n",
    "<document1>\n",
    "{document1}\n",
    "</document1>\n",
    "\n",
    "Document 2:\n",
    "<document2>\n",
    "{document2}\n",
    "</document2>\n",
    "\n",
    "Now, here is the explanation of the differences between the two documents:\n",
    "<comparison_explanation>\n",
    "{explanation}\n",
    "</comparison_explanation>\n",
    "\n",
    "The document(s) that need to be modified are:\n",
    "<target_document>\n",
    "{target_documents}\n",
    "</target_document>\n",
    "\n",
    "Your task is to analyze the differences explained in the comparison explanation and suggest specific changes to make the target document(s) match the other document as closely as possible, while maintaining the original language and style of the target document(s).\n",
    "\n",
    "Please follow these steps:\n",
    "\n",
    "1. Analyze the documents and the comparison explanation.\n",
    "2. Identify the key differences between the documents.\n",
    "3. Generate {k} suggestions for modifying the target document(s).\n",
    "4. Ensure that your suggested changes are appropriate for the language and context of the target document(s).\n",
    "5. Consider any cultural or linguistic nuances that need to be addressed.\n",
    "\n",
    "After your analysis, provide your suggestions in JSON format. The JSON structure should only include suggestions for the specified target document(s). Each suggestion should include the following:\n",
    "- The original text\n",
    "- The suggested modification (which should be the complete updated version of the original text)\n",
    "- A version number (v1, v2, etc.)\n",
    "\n",
    "Here's an example of the expected JSON structure (do not use this content in your response, it's just for illustration):\n",
    "\n",
    "```json\n",
    "{{\n",
    "  \"document1_suggestions\": {{\n",
    "    [\n",
    "      {{\n",
    "        \"version\": \"v1\",\n",
    "        \"modification\": \"Modified text here\"\n",
    "      }},\n",
    "      {{\n",
    "        \"version\": \"v2\",\n",
    "        \"modification\": \"Another modified text\"\n",
    "      }}\n",
    "    ]\n",
    "  }}\n",
    "}}\n",
    "```\n",
    "\n",
    "Important notes:\n",
    "1. Generate exactly {k} suggestions per target document. If both documents are targets, provide {k} suggestions for each.\n",
    "2. Only include suggestions for the specified target document(s) in your JSON output.\n",
    "3. Do not include explanations for the suggestions.\n",
    "\n",
    "After completing your suggestions, review them to ensure they accurately address the differences noted in the comparison explanation and are appropriate for the target document's language and context.\n",
    "\"\"\"\n",
    "\n",
    "user_input = \"Begin your analysis now.\"\n",
    "\n",
    "prompt = ChatPromptTemplate.from_messages(\n",
    "    [(\"system\", instruction), (\"user\", user_input)]\n",
    ")\n",
    "\n",
    "llm = get_llm(\"gpt-4o\")\n",
    "\n",
    "chain = prompt | llm | StrOutputParser()"
   ]
  },
  {
   "cell_type": "code",
   "execution_count": 14,
   "metadata": {},
   "outputs": [],
   "source": [
    "document1 = \"\"\"\n",
    "The Cardholder agrees to pay all Fees, commissions and/or charges incurred in this clause and authorise the Bank to debit the Account, at any time notwithstanding that such debiting may cause the Account to be overdrawn. The following Fees, commissions and/or charges is imposed at the following rate or such other rate as the Bank shall at its discretion vary from time to time by giving twenty-one (21) calendar days’ prior notice to the Cardholder for transactions effected by use of the Debit Card. For the full list of fees and charges, please visit our website www.hlb.com.my/dc1 or scan here:\"\"\"\n",
    "\n",
    "document2 = \"\"\"\n",
    "Pemegang Kad bersetuju untuk membayar semua fi, komisen dan/atau caj yang dikenakan dalam klausa ini dan membenarkan Bank untuk mendebit Akaun Pemegang Kad, tanpa mengambilkira pendebitan tersebut mungkin menyebabkan Akaun terlebihguna. Bayaran, komisen dan/atau caj berikut dikenakan pada kadar yang dinyatakan atau kadar lain yang ditetapkan, yang boleh dipinda oleh Bank untuk membuat pemindahan dari semasa ke semasa dengan memberi dua puluh satu (21) hari kalendar notis terlebih dahulu kepada Pemegang Kad untuk transaksi yang dilaksanakan melalui penggunaan Kad Debit. Untuk senarai fi dan caj yang lengkap, sila layari laman web kami www.hlb.com.my/dc2 atau imbas di sini:\n",
    "\"\"\"\n",
    "\n",
    "explanation = \"\"\"\n",
    "The URLs provided for the full list of fees and charges differ between the two documents. Document 1 refers to www.hlb.com.my/dc1, while Document 2 refers to www.hlb.com.my/dc2. This discrepancy could lead to confusion or misdirection for the cardholder seeking information.\n",
    "\"\"\"\n",
    "\n",
    "target_documents = \"Document 1, Document 2\""
   ]
  },
  {
   "cell_type": "code",
   "execution_count": 15,
   "metadata": {},
   "outputs": [],
   "source": [
    "result = chain.invoke(\n",
    "    {\n",
    "        \"document1\": document1,\n",
    "        \"document2\": document2,\n",
    "        \"explanation\": explanation,\n",
    "        \"target_documents\": target_documents,\n",
    "        \"k\": 2,\n",
    "    }\n",
    ")"
   ]
  },
  {
   "cell_type": "code",
   "execution_count": 16,
   "metadata": {},
   "outputs": [
    {
     "data": {
      "application/json": {
       "document1_suggestions": [
        {
         "modification": "For the full list of fees and charges, please visit our website www.hlb.com.my/dc2 or scan here:",
         "original_text": "For the full list of fees and charges, please visit our website www.hlb.com.my/dc1 or scan here:",
         "version": "v1"
        },
        {
         "modification": "For the full list of fees and charges, please visit our website www.hlb.com.my/dc or scan here:",
         "original_text": "For the full list of fees and charges, please visit our website www.hlb.com.my/dc1 or scan here:",
         "version": "v2"
        }
       ],
       "document2_suggestions": [
        {
         "modification": "Untuk senarai fi dan caj yang lengkap, sila layari laman web kami www.hlb.com.my/dc1 atau imbas di sini:",
         "original_text": "Untuk senarai fi dan caj yang lengkap, sila layari laman web kami www.hlb.com.my/dc2 atau imbas di sini:",
         "version": "v1"
        },
        {
         "modification": "Untuk senarai fi dan caj yang lengkap, sila layari laman web kami www.hlb.com.my/dc atau imbas di sini:",
         "original_text": "Untuk senarai fi dan caj yang lengkap, sila layari laman web kami www.hlb.com.my/dc2 atau imbas di sini:",
         "version": "v2"
        }
       ]
      },
      "text/plain": [
       "<IPython.core.display.JSON object>"
      ]
     },
     "execution_count": 16,
     "metadata": {
      "application/json": {
       "expanded": false,
       "root": "root"
      }
     },
     "output_type": "execute_result"
    }
   ],
   "source": [
    "import json\n",
    "from helpers.document_processor import DocumentProcessor\n",
    "from IPython.display import JSON\n",
    "\n",
    "document_processor = DocumentProcessor()\n",
    "final_result = json.loads(document_processor.remove_code_fences(result))\n",
    "\n",
    "JSON(final_result)"
   ]
  }
 ],
 "metadata": {
  "kernelspec": {
   "display_name": "venv",
   "language": "python",
   "name": "python3"
  },
  "language_info": {
   "codemirror_mode": {
    "name": "ipython",
    "version": 3
   },
   "file_extension": ".py",
   "mimetype": "text/x-python",
   "name": "python",
   "nbconvert_exporter": "python",
   "pygments_lexer": "ipython3",
   "version": "3.11.7"
  }
 },
 "nbformat": 4,
 "nbformat_minor": 2
}
