{
 "cells": [
  {
   "cell_type": "code",
   "execution_count": 1,
   "id": "17200629",
   "metadata": {},
   "outputs": [
    {
     "name": "stderr",
     "output_type": "stream",
     "text": [
      "d:\\Projects\\document_comparison\\venv\\Lib\\site-packages\\tqdm\\auto.py:21: TqdmWarning: IProgress not found. Please update jupyter and ipywidgets. See https://ipywidgets.readthedocs.io/en/stable/user_install.html\n",
      "  from .autonotebook import tqdm as notebook_tqdm\n",
      "2025-08-29 09:49:29.812 WARNING streamlit.runtime.scriptrunner_utils.script_run_context: Thread 'MainThread': missing ScriptRunContext! This warning can be ignored when running in bare mode.\n",
      "2025-08-29 09:49:30.777 \n",
      "  \u001b[33m\u001b[1mWarning:\u001b[0m to view this Streamlit app on a browser, run it with the following\n",
      "  command:\n",
      "\n",
      "    streamlit run d:\\Projects\\document_comparison\\venv\\Lib\\site-packages\\ipykernel_launcher.py [ARGUMENTS]\n",
      "2025-08-29 09:49:30.777 Thread 'MainThread': missing ScriptRunContext! This warning can be ignored when running in bare mode.\n",
      "2025-08-29 09:49:30.777 Thread 'MainThread': missing ScriptRunContext! This warning can be ignored when running in bare mode.\n",
      "2025-08-29 09:49:30.873 Thread 'MainThread': missing ScriptRunContext! This warning can be ignored when running in bare mode.\n",
      "2025-08-29 09:49:30.875 Thread 'MainThread': missing ScriptRunContext! This warning can be ignored when running in bare mode.\n",
      "2025-08-29 09:49:31.046 Thread 'MainThread': missing ScriptRunContext! This warning can be ignored when running in bare mode.\n",
      "2025-08-29 09:49:31.046 Thread 'MainThread': missing ScriptRunContext! This warning can be ignored when running in bare mode.\n",
      "2025-08-29 09:49:31.046 Thread 'MainThread': missing ScriptRunContext! This warning can be ignored when running in bare mode.\n",
      "2025-08-29 09:49:31.046 Thread 'MainThread': missing ScriptRunContext! This warning can be ignored when running in bare mode.\n",
      "2025-08-29 09:49:31.046 Thread 'MainThread': missing ScriptRunContext! This warning can be ignored when running in bare mode.\n",
      "2025-08-29 09:49:31.046 Thread 'MainThread': missing ScriptRunContext! This warning can be ignored when running in bare mode.\n",
      "2025-08-29 09:49:31.046 Thread 'MainThread': missing ScriptRunContext! This warning can be ignored when running in bare mode.\n",
      "2025-08-29 09:49:31.561 Thread 'Thread-9': missing ScriptRunContext! This warning can be ignored when running in bare mode.\n",
      "2025-08-29 09:49:31.569 Thread 'Thread-9': missing ScriptRunContext! This warning can be ignored when running in bare mode.\n",
      "2025-08-29 09:50:07.621 Thread 'MainThread': missing ScriptRunContext! This warning can be ignored when running in bare mode.\n",
      "2025-08-29 09:50:07.624 Thread 'MainThread': missing ScriptRunContext! This warning can be ignored when running in bare mode.\n",
      "2025-08-29 09:50:07.625 Thread 'MainThread': missing ScriptRunContext! This warning can be ignored when running in bare mode.\n",
      "2025-08-29 09:50:07.626 Thread 'MainThread': missing ScriptRunContext! This warning can be ignored when running in bare mode.\n"
     ]
    }
   ],
   "source": [
    "from helpers.guideline_comparison import GuidelineComparisonChain\n",
    "from dotenv import load_dotenv\n",
    "\n",
    "load_dotenv()\n",
    "\n",
    "with open(\"./data_sources/home-loan-pds.pdf\", \"rb\") as f:\n",
    "    document = f.read()\n",
    "    \n",
    "chain = GuidelineComparisonChain(chat_model_name=\"gpt-5\")\n",
    "\n",
    "clauses = \"\"\"# 16 Product Disclosure Sheet (PDS)\\n\\nS 16.1 A FSP shall provide a PDS (following the order and sequence of items as specified in the PDS templates provided in the Schedules) for financial consumers to make product comparisons and informed decisions. The FSP shall comply with the \\u201cNotes on PDS requirements\\u201d provided in the PDS templates.\\n\\nG 16.2 For the avoidance of doubt, a FSP may use appropriate infographics, illustrations or colours to draw the attention of financial consumers to important terms in the PDS.\\n\\nG 16.3 A FSP is encouraged to provide a PDS containing relevant product information that is tailored to the needs of financial consumers at the pre-contractual stage to facilitate consumers in making informed financial choices.\\n\\nS 16.4 A FSP shall ensure the PDS does not exceed two A4 pages and ensure that the information is presented in an easily readable font size.\\n\\nS 16.5 A FSP shall use plain language and active verbs to make the PDS easy to read and understand.\\n\\nG 16.6 In relation to paragraph 16.5, keeping sentences short will make the PDS easier to read. Most plain language writing guides recommend an average sentence length of not more than twenty words per sentence.\\n\\nS 16.7 A FSP shall ensure the PDS is clearly distinguishable from other marketing materials to enable financial consumers to refer to the PDS for comparison and decision-making.\\n\\nS 16.8 A FSP shall put in place adequate measures to ensure financial consumers are guided to read and understand the PDS prior to entering into a contract. The extent to which the FSP implements these measures shall be commensurate with the complexity of the financial product (i.e. adopting a risk-based approach). The level of measures that must be put in place by FSPs for more complex products would be higher as compared to less complex products. For complex products, the FSP must take additional steps, such as calling customers post-sales, to confirm that the customers are aware of all key terms and risks of the product.\\n\\nG 16.9 In complying with paragraph 16.8, a FSP may require its front-line sales staff and intermediaries to advise financial consumers to read the PDS and explain the key information in the PDS, such as their obligations and product risks.\\n\\nS 16.10 A FSP shall provide a copy of the PDS to financial consumers at the pre\\u2011contractual stage.\\n\\nS 16.11 If it is not practical to provide the PDS at the pre-contractual stage, particularly for telemarketing transactions, a FSP shall direct financial consumers to its website to view, read or obtain a copy of the PDS.\\n\\nS 16.12 A FSP that distributes its financial products through intermediaries, including a digital channel, shall customise the information contained in the PDS according to the distribution channel. The FSP shall disclose specific charges to be borne by financial consumers for securing the sale through its intermediaries, such as the platform, processing or administrative fees, if any.\\n\\nS 16.13 For riders to an insurance/takaful product offering a variety of benefits[^17], a FSP must provide a separate PDS for such riders. The FSP must provide the PDS for the riders together with the PDS for the basic insurance or takaful product.\\n\\nS 16.14 For financial products that are not set out in the Schedules, a FSP shall be guided by the format provided in the Schedules in producing a PDS on such products.\\n\\nS 16.15 A FSP offering an Islamic financial product must explain the applicable Shariah contract, including the key terms and conditions in the PDS.\\n\\nG 16.16 BNM reserves the right to require a FSP to make appropriate amendments to a PDS if information contained in the PDS is found to be inaccurate, incomplete or misleading.\\n\\nS 16.17 A FSP shall immediately make appropriate amendments to the information contained in the PDS upon being informed by BNM in writing that the PDS is inaccurate or misleading.\\n\\n[^17]: Examples of riders offering a variety of benefits include medical reimbursement riders, critical illness riders and hospitalisation income riders. Examples of riders not offering a variety of benefits include riders that waive premium/takaful contribution upon events like death or total permanent disability.\"\"\"\n",
    "\n",
    "result = chain.invoke_chain(guidelines=[{\"clause\": clauses, \"image_urls\": []}], document_file=document)"
   ]
  },
  {
   "cell_type": "code",
   "execution_count": 2,
   "id": "4f1ce039",
   "metadata": {},
   "outputs": [
    {
     "data": {
      "text/plain": [
       "[{'results': [{'clause': 'S 16.1 A FSP shall provide a PDS (following the order and sequence of items as specified in the PDS templates provided in the Schedules) for financial consumers to make product comparisons and informed decisions. The FSP shall comply with the “Notes on PDS requirements” provided in the PDS templates.',\n",
       "    'isComplied': 'not-applicable',\n",
       "    'reason': 'The referenced PDS templates and Notes on PDS requirements are not provided, so compliance with order, sequence, and template requirements cannot be verified.'},\n",
       "   {'clause': 'G 16.2 For the avoidance of doubt, a FSP may use appropriate infographics, illustrations or colours to draw the attention of financial consumers to important terms in the PDS.',\n",
       "    'isComplied': 'not-applicable',\n",
       "    'reason': 'The document is text-only and does not provide evidence of use or non-use of infographics, illustrations, or colours.'},\n",
       "   {'clause': 'G 16.3 A FSP is encouraged to provide a PDS containing relevant product information that is tailored to the needs of financial consumers at the pre-contractual stage to facilitate consumers in making informed financial choices.',\n",
       "    'isComplied': 'complied',\n",
       "    'reason': 'The document provides relevant product information, including features, obligations, charges, and contact points, tailored for consumers at the pre-contractual stage.'},\n",
       "   {'clause': 'S 16.4 A FSP shall ensure the PDS does not exceed two A4 pages and ensure that the information is presented in an easily readable font size.',\n",
       "    'isComplied': 'non-complied',\n",
       "    'reason': 'The document spans at least 7 pages, exceeding the two A4 page limit.'},\n",
       "   {'clause': 'S 16.5 A FSP shall use plain language and active verbs to make the PDS easy to read and understand.',\n",
       "    'isComplied': 'complied',\n",
       "    'reason': 'The document uses plain language and active verbs throughout, making it easy to read and understand.'},\n",
       "   {'clause': 'G 16.6 In relation to paragraph 16.5, keeping sentences short will make the PDS easier to read. Most plain language writing guides recommend an average sentence length of not more than twenty words per sentence.',\n",
       "    'isComplied': 'complied',\n",
       "    'reason': 'The document generally uses short sentences and plain language, aligning with the intent of the guidance.'},\n",
       "   {'clause': 'S 16.7 A FSP shall ensure the PDS is clearly distinguishable from other marketing materials to enable financial consumers to refer to the PDS for comparison and decision-making.',\n",
       "    'isComplied': 'complied',\n",
       "    'reason': \"The document is titled 'Product Disclosure Sheet' and instructs the reader to read it with the Letter of Offer, making it clearly distinguishable from marketing materials.\"},\n",
       "   {'clause': 'S 16.8 A FSP shall put in place adequate measures to ensure financial consumers are guided to read and understand the PDS prior to entering into a contract. The extent to which the FSP implements these measures shall be commensurate with the complexity of the financial product (i.e. adopting a risk-based approach). The level of measures that must be put in place by FSPs for more complex products would be higher as compared to less complex products. For complex products, the FSP must take additional steps, such as calling customers post-sales, to confirm that the customers are aware of all key terms and risks of the product.',\n",
       "    'isComplied': 'non-complied',\n",
       "    'reason': 'The document does not describe any measures to guide consumers to read and understand the PDS or any risk-based approach for complex products.'},\n",
       "   {'clause': 'G 16.9 In complying with paragraph 16.8, a FSP may require its front-line sales staff and intermediaries to advise financial consumers to read the PDS and explain the key information in the PDS, such as their obligations and product risks.',\n",
       "    'isComplied': 'not-applicable',\n",
       "    'reason': 'The document does not mention front-line staff or intermediaries advising consumers to read the PDS or explaining key information.'},\n",
       "   {'clause': 'S 16.10 A FSP shall provide a copy of the PDS to financial consumers at the pre‑contractual stage.',\n",
       "    'isComplied': 'non-complied',\n",
       "    'reason': 'The document does not state that a copy of the PDS will be provided to consumers at the pre-contractual stage.'},\n",
       "   {'clause': 'S 16.11 If it is not practical to provide the PDS at the pre-contractual stage, particularly for telemarketing transactions, a FSP shall direct financial consumers to its website to view, read or obtain a copy of the PDS.',\n",
       "    'isComplied': 'not-applicable',\n",
       "    'reason': 'There is no evidence that the product is distributed via telemarketing or that it is impractical to provide the PDS at the pre-contractual stage.'},\n",
       "   {'clause': 'S 16.12 A FSP that distributes its financial products through intermediaries, including a digital channel, shall customise the information contained in the PDS according to the distribution channel. The FSP shall disclose specific charges to be borne by financial consumers for securing the sale through its intermediaries, such as the platform, processing or administrative fees, if any.',\n",
       "    'isComplied': 'not-applicable',\n",
       "    'reason': 'There is no evidence in the document that the product is distributed through intermediaries or digital channels.'},\n",
       "   {'clause': 'S 16.13 For riders to an insurance/takaful product offering a variety of benefits, a FSP must provide a separate PDS for such riders. The FSP must provide the PDS for the riders together with the PDS for the basic insurance or takaful product.',\n",
       "    'isComplied': 'not-applicable',\n",
       "    'reason': 'The document does not relate to insurance/takaful products with riders.'},\n",
       "   {'clause': 'S 16.14 For financial products that are not set out in the Schedules, a FSP shall be guided by the format provided in the Schedules in producing a PDS on such products.',\n",
       "    'isComplied': 'not-applicable',\n",
       "    'reason': 'It cannot be determined if the product is not set out in the Schedules, and the Schedules are not provided for verification.'},\n",
       "   {'clause': 'S 16.15 A FSP offering an Islamic financial product must explain the applicable Shariah contract, including the key terms and conditions in the PDS.',\n",
       "    'isComplied': 'not-applicable',\n",
       "    'reason': 'The document does not evidence that the product is an Islamic financial product.'},\n",
       "   {'clause': 'G 16.16 BNM reserves the right to require a FSP to make appropriate amendments to a PDS if information contained in the PDS is found to be inaccurate, incomplete or misleading.',\n",
       "    'isComplied': 'not-applicable',\n",
       "    'reason': 'This clause is a regulatory right and does not require action or evidence from the document.'},\n",
       "   {'clause': 'S 16.17 A FSP shall immediately make appropriate amendments to the information contained in the PDS upon being informed by BNM in writing that the PDS is inaccurate or misleading.',\n",
       "    'isComplied': 'not-applicable',\n",
       "    'reason': 'There is no evidence that BNM has informed the FSP of inaccuracies or misleading information in the PDS.'}],\n",
       "  'guideline': '# 16 Product Disclosure Sheet (PDS)\\n\\nS 16.1 A FSP shall provide a PDS (following the order and sequence of items as specified in the PDS templates provided in the Schedules) for financial consumers to make product comparisons and informed decisions. The FSP shall comply with the “Notes on PDS requirements” provided in the PDS templates.\\n\\nG 16.2 For the avoidance of doubt, a FSP may use appropriate infographics, illustrations or colours to draw the attention of financial consumers to important terms in the PDS.\\n\\nG 16.3 A FSP is encouraged to provide a PDS containing relevant product information that is tailored to the needs of financial consumers at the pre-contractual stage to facilitate consumers in making informed financial choices.\\n\\nS 16.4 A FSP shall ensure the PDS does not exceed two A4 pages and ensure that the information is presented in an easily readable font size.\\n\\nS 16.5 A FSP shall use plain language and active verbs to make the PDS easy to read and understand.\\n\\nG 16.6 In relation to paragraph 16.5, keeping sentences short will make the PDS easier to read. Most plain language writing guides recommend an average sentence length of not more than twenty words per sentence.\\n\\nS 16.7 A FSP shall ensure the PDS is clearly distinguishable from other marketing materials to enable financial consumers to refer to the PDS for comparison and decision-making.\\n\\nS 16.8 A FSP shall put in place adequate measures to ensure financial consumers are guided to read and understand the PDS prior to entering into a contract. The extent to which the FSP implements these measures shall be commensurate with the complexity of the financial product (i.e. adopting a risk-based approach). The level of measures that must be put in place by FSPs for more complex products would be higher as compared to less complex products. For complex products, the FSP must take additional steps, such as calling customers post-sales, to confirm that the customers are aware of all key terms and risks of the product.\\n\\nG 16.9 In complying with paragraph 16.8, a FSP may require its front-line sales staff and intermediaries to advise financial consumers to read the PDS and explain the key information in the PDS, such as their obligations and product risks.\\n\\nS 16.10 A FSP shall provide a copy of the PDS to financial consumers at the pre‑contractual stage.\\n\\nS 16.11 If it is not practical to provide the PDS at the pre-contractual stage, particularly for telemarketing transactions, a FSP shall direct financial consumers to its website to view, read or obtain a copy of the PDS.\\n\\nS 16.12 A FSP that distributes its financial products through intermediaries, including a digital channel, shall customise the information contained in the PDS according to the distribution channel. The FSP shall disclose specific charges to be borne by financial consumers for securing the sale through its intermediaries, such as the platform, processing or administrative fees, if any.\\n\\nS 16.13 For riders to an insurance/takaful product offering a variety of benefits[^17], a FSP must provide a separate PDS for such riders. The FSP must provide the PDS for the riders together with the PDS for the basic insurance or takaful product.\\n\\nS 16.14 For financial products that are not set out in the Schedules, a FSP shall be guided by the format provided in the Schedules in producing a PDS on such products.\\n\\nS 16.15 A FSP offering an Islamic financial product must explain the applicable Shariah contract, including the key terms and conditions in the PDS.\\n\\nG 16.16 BNM reserves the right to require a FSP to make appropriate amendments to a PDS if information contained in the PDS is found to be inaccurate, incomplete or misleading.\\n\\nS 16.17 A FSP shall immediately make appropriate amendments to the information contained in the PDS upon being informed by BNM in writing that the PDS is inaccurate or misleading.\\n\\n[^17]: Examples of riders offering a variety of benefits include medical reimbursement riders, critical illness riders and hospitalisation income riders. Examples of riders not offering a variety of benefits include riders that waive premium/takaful contribution upon events like death or total permanent disability.'}]"
      ]
     },
     "execution_count": 2,
     "metadata": {},
     "output_type": "execute_result"
    }
   ],
   "source": [
    "result"
   ]
  }
 ],
 "metadata": {
  "kernelspec": {
   "display_name": "venv",
   "language": "python",
   "name": "python3"
  },
  "language_info": {
   "codemirror_mode": {
    "name": "ipython",
    "version": 3
   },
   "file_extension": ".py",
   "mimetype": "text/x-python",
   "name": "python",
   "nbconvert_exporter": "python",
   "pygments_lexer": "ipython3",
   "version": "3.11.9"
  }
 },
 "nbformat": 4,
 "nbformat_minor": 5
}
