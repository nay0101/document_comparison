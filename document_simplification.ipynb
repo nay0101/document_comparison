{
 "cells": [
  {
   "cell_type": "code",
   "execution_count": 16,
   "metadata": {},
   "outputs": [],
   "source": [
    "from langchain_core.prompts import ChatPromptTemplate\n",
    "from langchain_core.output_parsers import StrOutputParser\n",
    "from helpers.llm_integrations import get_llm\n",
    "from dotenv import load_dotenv\n",
    "\n",
    "load_dotenv()\n",
    "\n",
    "instruction = \"\"\"\n",
    "You are an expert in simplifying complex text while maintaining its core meaning. Your task is to simplify the following paragraph:\n",
    "\n",
    "<paragraph_to_simplify>\n",
    "{paragraph}\n",
    "</paragraph_to_simplify>\n",
    "\n",
    "You will produce <num_variations>{k}</num_variations> simplified version(s) of this paragraph.\n",
    "\n",
    "Instructions:\n",
    "1. Analyze the given paragraph thoroughly.\n",
    "2. Simplify each sentence while maintaining the overall meaning and exact format.\n",
    "3. Keep specific information like links, numbers, and other essential data intact.\n",
    "4. Use plain language and active verbs.\n",
    "5. Break down complex sentences into simpler ones when necessary.\n",
    "6. Replace jargon or technical terms with simpler alternatives, unless they are crucial to the meaning.\n",
    "7. Ensure that the main ideas are clearly conveyed.\n",
    "8. For complex but necessary terms, simplify the surrounding language without removing these key terms.\n",
    "\n",
    "Provide the simplified version(s) of the paragraph in JSON format. The JSON structure should be as follows:\n",
    "\n",
    "{{\n",
    "  \"simplifiedVersions\": [\n",
    "    {{\n",
    "      \"versionNumber\": 1,\n",
    "      \"simplifiedText\": \"Your simplified paragraph here\"\n",
    "    }},\n",
    "    {{\n",
    "      \"versionNumber\": 2,\n",
    "      \"simplifiedText\": \"Your second simplified paragraph here (if applicable)\"\n",
    "    }}\n",
    "  ]\n",
    "}}\n",
    "\n",
    "If only one version is requested, the JSON will contain only one object in the \"simplifiedVersions\" array.\n",
    "\"\"\"\n",
    "\n",
    "user_input = \"Please proceed with simplifying the given paragraph and formatting the output as specified.\"\n",
    "\n",
    "prompt = ChatPromptTemplate.from_messages(\n",
    "    [(\"system\", instruction), (\"user\", user_input)]\n",
    ")\n",
    "\n",
    "llm = get_llm(\"gpt-4o\")\n",
    "\n",
    "chain = prompt | llm | StrOutputParser()"
   ]
  },
  {
   "cell_type": "code",
   "execution_count": 17,
   "metadata": {},
   "outputs": [],
   "source": [
    "paragraph = \"\"\"\n",
    "Last Updated 24 December 2024 \n",
    "      FOREIGN CURRENCY ACCOUNT (Versi Bahasa Malaysia) \n",
    "      TERMS AND CONDITIONS (�T&Cs�) \n",
    "      In consideration of Hong Leong Bank Berhad (�HLB�) agreeing to allow the customer of HLB ( � Customer�) \n",
    "      to open and operate foreign currency account(s) with HLB at the Customer�s request, the Customer hereby \n",
    "      agrees, covenants and undertakes to open and operate the Foreign Currency Account(s) upon the General \n",
    "      Terms and Conditions of Accounts which shall apply to the Foreign Currency Account unless otherwise \n",
    "      indicated herein: \n",
    "      1. Definitions & Interpretations \n",
    "      1.1 The following terms and expressions shall have the meanings assigned to them unless the context \n",
    "      otherwise requires: \n",
    "      (a) �Account(s)� means any account or accounts (whether current, fixed deposit or any other accounts \n",
    "      which may be permitted by HLB) in any foreign currency which is acceptable to HLB opened or to \n",
    "      be opened by the Customer with HLB from time to time;  \n",
    "      (b) �Domestic Ringgit Borrowing� means: \n",
    "      i. any Borrowing in Ringgit obtained by a Resident from another Resident; or \n",
    "      ii. any obligation considered or deemed as Domestic Ringgit Borrowing under any of the FEN \n",
    "      (c) �Entity� means  \n",
    "      i. any corporation, statutory body, local authority, society, co-operative, limited liability partnership \n",
    "      and any other body, organization, association or group of persons, whether corporate or \n",
    "      unincorporate, in or outside Malaysia; or \n",
    "      ii. the Federal Government, any State Government or any other government; \n",
    "      (d) �FEP Notices� refers to the Foreign Exchange Policy Notices issued by Bank Negara Malaysia as \n",
    "      published on website under FEP Notices; \n",
    "      (e) �General Partnership� has the same meaning with the term �partnership� as defined in Section 3(1) \n",
    "      of the Partnership Act 1961 \n",
    "      (f) �Individuals� means Malaysian and non-Malaysian individuals aged eighteen (18) years and above, \n",
    "      either in single or in joint-name; \n",
    "      (g) �Licensed Onshore Bank� means: \n",
    "      i. a licensed bank or a licensed investment bank under the Financial Services Act 2013; and \n",
    "      ii. a licensed Islamic bank under the Islamic Financial Services Act 2013 \n",
    "      (h) �Resident� means: \n",
    "      i. a citizen of Malaysia, excluding a citizen who has obtained permanent resident status in a country \n",
    "      or a territory outside Malaysia and is residing outside Malaysia; \n",
    "      ii. a non-citizen of Malaysia who has obtained permanent resident status in Malaysia and is \n",
    "      ordinarily residing in Malaysia; \n",
    "      iii. a body corporate incorporated or established, or registered with or approved by any authority, in \n",
    "      Malaysia; \n",
    "      iv. an unincorporated body registered with or approved by any authority in Malaysia; or \n",
    "      v. the Government or any State Government; and \n",
    "      (i) �Ringgit Malaysia� or �RM� means the lawful currency of Malaysia.\" \\\n",
    "      \"\"\""
   ]
  },
  {
   "cell_type": "code",
   "execution_count": 21,
   "metadata": {},
   "outputs": [],
   "source": [
    "result = chain.invoke(\n",
    "    {\n",
    "        \"paragraph\": paragraph,\n",
    "        \"k\": 2\n",
    "    }\n",
    ")"
   ]
  },
  {
   "cell_type": "code",
   "execution_count": 22,
   "metadata": {},
   "outputs": [
    {
     "data": {
      "text/plain": [
       "'```json\\n{\\n  \"simplifiedVersions\": [\\n    {\\n      \"versionNumber\": 1,\\n      \"simplifiedText\": \"Last Updated 24 December 2024 FOREIGN CURRENCY ACCOUNT (Malay Version) TERMS AND CONDITIONS (\\'T&Cs\\') Hong Leong Bank Berhad (\\'HLB\\') allows customers to open and use foreign currency accounts. Customers agree to follow the General Terms and Conditions of Accounts unless stated otherwise: 1. Definitions & Interpretations 1.1 Terms have these meanings unless context changes them: (a) \\'Account(s)\\' means any account in foreign currency accepted by HLB, like current or fixed deposit accounts. (b) \\'Domestic Ringgit Borrowing\\' means: i. Borrowing in Ringgit between Residents; or ii. Any obligation seen as Domestic Ringgit Borrowing under FEN. (c) \\'Entity\\' means i. Any corporation, government body, or group, inside or outside Malaysia; or ii. The Federal or State Government. (d) \\'FEP Notices\\' are Foreign Exchange Policy Notices by Bank Negara Malaysia. (e) \\'General Partnership\\' is defined in Section 3(1) of the Partnership Act 1961. (f) \\'Individuals\\' are Malaysians and non-Malaysians aged 18 and above, alone or together. (g) \\'Licensed Onshore Bank\\' means: i. A licensed bank or investment bank under the Financial Services Act 2013; and ii. A licensed Islamic bank under the Islamic Financial Services Act 2013. (h) \\'Resident\\' means: i. A Malaysian citizen, not a permanent resident elsewhere; ii. A non-Malaysian with permanent residency in Malaysia; iii. A company or body registered in Malaysia; iv. An unincorporated body approved in Malaysia; or v. The Government or any State Government. (i) \\'Ringgit Malaysia\\' or \\'RM\\' is Malaysia\\'s currency.\"\\n    },\\n    {\\n      \"versionNumber\": 2,\\n      \"simplifiedText\": \"Last Updated 24 December 2024 FOREIGN CURRENCY ACCOUNT (Malay Version) TERMS AND CONDITIONS (\\'T&Cs\\') Hong Leong Bank Berhad (\\'HLB\\') lets customers open foreign currency accounts. Customers must follow the General Terms and Conditions unless noted otherwise: 1. Definitions & Interpretations 1.1 Terms mean the following unless context changes: (a) \\'Account(s)\\' are any foreign currency accounts accepted by HLB, like current or fixed deposit accounts. (b) \\'Domestic Ringgit Borrowing\\' means: i. Ringgit borrowing between Residents; or ii. Any obligation considered Domestic Ringgit Borrowing under FEN. (c) \\'Entity\\' means i. Any corporation, government body, or group, inside or outside Malaysia; or ii. The Federal or State Government. (d) \\'FEP Notices\\' are Foreign Exchange Policy Notices by Bank Negara Malaysia. (e) \\'General Partnership\\' is defined in Section 3(1) of the Partnership Act 1961. (f) \\'Individuals\\' are Malaysians and non-Malaysians aged 18 and above, alone or together. (g) \\'Licensed Onshore Bank\\' means: i. A licensed bank or investment bank under the Financial Services Act 2013; and ii. A licensed Islamic bank under the Islamic Financial Services Act 2013. (h) \\'Resident\\' means: i. A Malaysian citizen, not a permanent resident elsewhere; ii. A non-Malaysian with permanent residency in Malaysia; iii. A company or body registered in Malaysia; iv. An unincorporated body approved in Malaysia; or v. The Government or any State Government. (i) \\'Ringgit Malaysia\\' or \\'RM\\' is Malaysia\\'s currency.\"\\n    }\\n  ]\\n}\\n```'"
      ]
     },
     "execution_count": 22,
     "metadata": {},
     "output_type": "execute_result"
    }
   ],
   "source": [
    "result"
   ]
  },
  {
   "cell_type": "code",
   "execution_count": 23,
   "metadata": {},
   "outputs": [
    {
     "data": {
      "application/json": {
       "simplifiedVersions": [
        {
         "simplifiedText": "Last Updated 24 December 2024 FOREIGN CURRENCY ACCOUNT (Malay Version) TERMS AND CONDITIONS ('T&Cs') Hong Leong Bank Berhad ('HLB') allows customers to open and use foreign currency accounts. Customers agree to follow the General Terms and Conditions of Accounts unless stated otherwise: 1. Definitions & Interpretations 1.1 Terms have these meanings unless context changes them: (a) 'Account(s)' means any account in foreign currency accepted by HLB, like current or fixed deposit accounts. (b) 'Domestic Ringgit Borrowing' means: i. Borrowing in Ringgit between Residents; or ii. Any obligation seen as Domestic Ringgit Borrowing under FEN. (c) 'Entity' means i. Any corporation, government body, or group, inside or outside Malaysia; or ii. The Federal or State Government. (d) 'FEP Notices' are Foreign Exchange Policy Notices by Bank Negara Malaysia. (e) 'General Partnership' is defined in Section 3(1) of the Partnership Act 1961. (f) 'Individuals' are Malaysians and non-Malaysians aged 18 and above, alone or together. (g) 'Licensed Onshore Bank' means: i. A licensed bank or investment bank under the Financial Services Act 2013; and ii. A licensed Islamic bank under the Islamic Financial Services Act 2013. (h) 'Resident' means: i. A Malaysian citizen, not a permanent resident elsewhere; ii. A non-Malaysian with permanent residency in Malaysia; iii. A company or body registered in Malaysia; iv. An unincorporated body approved in Malaysia; or v. The Government or any State Government. (i) 'Ringgit Malaysia' or 'RM' is Malaysia's currency.",
         "versionNumber": 1
        },
        {
         "simplifiedText": "Last Updated 24 December 2024 FOREIGN CURRENCY ACCOUNT (Malay Version) TERMS AND CONDITIONS ('T&Cs') Hong Leong Bank Berhad ('HLB') lets customers open foreign currency accounts. Customers must follow the General Terms and Conditions unless noted otherwise: 1. Definitions & Interpretations 1.1 Terms mean the following unless context changes: (a) 'Account(s)' are any foreign currency accounts accepted by HLB, like current or fixed deposit accounts. (b) 'Domestic Ringgit Borrowing' means: i. Ringgit borrowing between Residents; or ii. Any obligation considered Domestic Ringgit Borrowing under FEN. (c) 'Entity' means i. Any corporation, government body, or group, inside or outside Malaysia; or ii. The Federal or State Government. (d) 'FEP Notices' are Foreign Exchange Policy Notices by Bank Negara Malaysia. (e) 'General Partnership' is defined in Section 3(1) of the Partnership Act 1961. (f) 'Individuals' are Malaysians and non-Malaysians aged 18 and above, alone or together. (g) 'Licensed Onshore Bank' means: i. A licensed bank or investment bank under the Financial Services Act 2013; and ii. A licensed Islamic bank under the Islamic Financial Services Act 2013. (h) 'Resident' means: i. A Malaysian citizen, not a permanent resident elsewhere; ii. A non-Malaysian with permanent residency in Malaysia; iii. A company or body registered in Malaysia; iv. An unincorporated body approved in Malaysia; or v. The Government or any State Government. (i) 'Ringgit Malaysia' or 'RM' is Malaysia's currency.",
         "versionNumber": 2
        }
       ]
      },
      "text/plain": [
       "<IPython.core.display.JSON object>"
      ]
     },
     "execution_count": 23,
     "metadata": {
      "application/json": {
       "expanded": false,
       "root": "root"
      }
     },
     "output_type": "execute_result"
    }
   ],
   "source": [
    "import json\n",
    "from helpers.document_processor import DocumentProcessor\n",
    "from IPython.display import JSON\n",
    "\n",
    "document_processor = DocumentProcessor()\n",
    "final_result = json.loads(document_processor.remove_code_fences(result))\n",
    "\n",
    "JSON(final_result)"
   ]
  }
 ],
 "metadata": {
  "kernelspec": {
   "display_name": "venv",
   "language": "python",
   "name": "python3"
  },
  "language_info": {
   "codemirror_mode": {
    "name": "ipython",
    "version": 3
   },
   "file_extension": ".py",
   "mimetype": "text/x-python",
   "name": "python",
   "nbconvert_exporter": "python",
   "pygments_lexer": "ipython3",
   "version": "3.11.7"
  }
 },
 "nbformat": 4,
 "nbformat_minor": 2
}
